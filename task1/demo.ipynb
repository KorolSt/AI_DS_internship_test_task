{
 "cells": [
  {
   "cell_type": "code",
   "outputs": [],
   "source": [
    "import numpy as np\n",
    "from tensorflow.keras.datasets import mnist\n",
    "from sklearn.metrics import classification_report, confusion_matrix, accuracy_score\n",
    "from task1.mnist_classifier import MnistClassifier"
   ],
   "metadata": {
    "collapsed": false,
    "ExecuteTime": {
     "end_time": "2025-02-24T16:30:40.311848Z",
     "start_time": "2025-02-24T16:30:40.308614Z"
    }
   },
   "id": "459a0c87c53c1179",
   "execution_count": 46
  },
  {
   "cell_type": "code",
   "outputs": [],
   "source": [
    "# Load MNIST dataset\n",
    "(x_train, y_train), (x_test, y_test) = mnist.load_data()\n",
    "\n",
    "x_train = x_train.reshape(-1, 28, 28, 1) / 255.0\n",
    "x_test = x_test.reshape(-1, 28, 28, 1) / 255.0\n",
    " \n",
    "# Function to evaluate model performance\n",
    "def evaluate_model(model, x_test, y_test):\n",
    "    predictions = model.predict(x_test)\n",
    "    print(\"Classification Report:\")\n",
    "    print(classification_report(y_test, predictions))\n",
    "    print(\"Confusion Matrix:\")\n",
    "    print(confusion_matrix(y_test, predictions))\n",
    "    print(f\"Accuracy: {accuracy_score(y_test, predictions):.4f}\")\n",
    "    return predictions"
   ],
   "metadata": {
    "collapsed": false,
    "ExecuteTime": {
     "end_time": "2025-02-24T16:30:40.427459Z",
     "start_time": "2025-02-24T16:30:40.313569Z"
    }
   },
   "id": "730c4f5f30af86da",
   "execution_count": 47
  },
  {
   "cell_type": "code",
   "outputs": [
    {
     "name": "stdout",
     "output_type": "stream",
     "text": [
      "Training CNN Model...\n",
      "Epoch 1/10\n"
     ]
    },
    {
     "name": "stderr",
     "output_type": "stream",
     "text": [
      "/Library/Frameworks/Python.framework/Versions/3.10/lib/python3.10/site-packages/keras/src/layers/convolutional/base_conv.py:107: UserWarning: Do not pass an `input_shape`/`input_dim` argument to a layer. When using Sequential models, prefer using an `Input(shape)` object as the first layer in the model instead.\n",
      "  super().__init__(activity_regularizer=activity_regularizer, **kwargs)\n"
     ]
    },
    {
     "name": "stdout",
     "output_type": "stream",
     "text": [
      "\u001B[1m469/469\u001B[0m \u001B[32m━━━━━━━━━━━━━━━━━━━━\u001B[0m\u001B[37m\u001B[0m \u001B[1m5s\u001B[0m 9ms/step - accuracy: 0.8389 - loss: 0.5427\n",
      "Epoch 2/10\n",
      "\u001B[1m469/469\u001B[0m \u001B[32m━━━━━━━━━━━━━━━━━━━━\u001B[0m\u001B[37m\u001B[0m \u001B[1m4s\u001B[0m 9ms/step - accuracy: 0.9795 - loss: 0.0694\n",
      "Epoch 3/10\n",
      "\u001B[1m469/469\u001B[0m \u001B[32m━━━━━━━━━━━━━━━━━━━━\u001B[0m\u001B[37m\u001B[0m \u001B[1m4s\u001B[0m 9ms/step - accuracy: 0.9856 - loss: 0.0492\n",
      "Epoch 4/10\n",
      "\u001B[1m469/469\u001B[0m \u001B[32m━━━━━━━━━━━━━━━━━━━━\u001B[0m\u001B[37m\u001B[0m \u001B[1m4s\u001B[0m 9ms/step - accuracy: 0.9892 - loss: 0.0347\n",
      "Epoch 5/10\n",
      "\u001B[1m469/469\u001B[0m \u001B[32m━━━━━━━━━━━━━━━━━━━━\u001B[0m\u001B[37m\u001B[0m \u001B[1m4s\u001B[0m 9ms/step - accuracy: 0.9912 - loss: 0.0278\n",
      "Epoch 6/10\n",
      "\u001B[1m469/469\u001B[0m \u001B[32m━━━━━━━━━━━━━━━━━━━━\u001B[0m\u001B[37m\u001B[0m \u001B[1m4s\u001B[0m 9ms/step - accuracy: 0.9929 - loss: 0.0215\n",
      "Epoch 7/10\n",
      "\u001B[1m469/469\u001B[0m \u001B[32m━━━━━━━━━━━━━━━━━━━━\u001B[0m\u001B[37m\u001B[0m \u001B[1m4s\u001B[0m 9ms/step - accuracy: 0.9939 - loss: 0.0196\n",
      "Epoch 8/10\n",
      "\u001B[1m469/469\u001B[0m \u001B[32m━━━━━━━━━━━━━━━━━━━━\u001B[0m\u001B[37m\u001B[0m \u001B[1m4s\u001B[0m 9ms/step - accuracy: 0.9944 - loss: 0.0169\n",
      "Epoch 9/10\n",
      "\u001B[1m469/469\u001B[0m \u001B[32m━━━━━━━━━━━━━━━━━━━━\u001B[0m\u001B[37m\u001B[0m \u001B[1m4s\u001B[0m 9ms/step - accuracy: 0.9967 - loss: 0.0116\n",
      "Epoch 10/10\n",
      "\u001B[1m469/469\u001B[0m \u001B[32m━━━━━━━━━━━━━━━━━━━━\u001B[0m\u001B[37m\u001B[0m \u001B[1m4s\u001B[0m 9ms/step - accuracy: 0.9955 - loss: 0.0123\n",
      "dict_keys(['accuracy', 'loss'])\n",
      "\u001B[1m313/313\u001B[0m \u001B[32m━━━━━━━━━━━━━━━━━━━━\u001B[0m\u001B[37m\u001B[0m \u001B[1m0s\u001B[0m 1ms/step\n",
      "Classification Report:\n",
      "              precision    recall  f1-score   support\n",
      "\n",
      "           0       0.98      1.00      0.99       980\n",
      "           1       0.99      1.00      0.99      1135\n",
      "           2       1.00      0.99      0.99      1032\n",
      "           3       0.99      0.99      0.99      1010\n",
      "           4       1.00      0.98      0.99       982\n",
      "           5       0.99      0.98      0.99       892\n",
      "           6       0.99      0.98      0.99       958\n",
      "           7       0.99      0.99      0.99      1028\n",
      "           8       0.98      0.99      0.98       974\n",
      "           9       0.98      0.99      0.98      1009\n",
      "\n",
      "    accuracy                           0.99     10000\n",
      "   macro avg       0.99      0.99      0.99     10000\n",
      "weighted avg       0.99      0.99      0.99     10000\n",
      "\n",
      "Confusion Matrix:\n",
      "[[ 977    0    0    0    0    0    0    1    2    0]\n",
      " [   0 1134    0    0    0    0    1    0    0    0]\n",
      " [   1    3 1018    1    0    0    0    6    3    0]\n",
      " [   2    0    1 1001    0    2    0    0    4    0]\n",
      " [   0    1    0    0  965    0    2    0    4   10]\n",
      " [   2    0    1   10    0  877    1    0    0    1]\n",
      " [   6    3    0    0    1    2  942    0    4    0]\n",
      " [   0    5    2    0    0    0    0 1016    1    4]\n",
      " [   5    0    1    0    0    0    1    2  963    2]\n",
      " [   1    1    0    0    1    6    0    1    4  995]]\n",
      "Accuracy: 0.9888\n"
     ]
    }
   ],
   "source": [
    "# CNN model creation and training\n",
    "print(\"Training CNN Model...\")\n",
    "classifier_cnn = MnistClassifier(algorithm='cnn')\n",
    "classifier_cnn.train(x_train, y_train)\n",
    "cnn_preds = evaluate_model(classifier_cnn, x_test, y_test)\n"
   ],
   "metadata": {
    "collapsed": false,
    "ExecuteTime": {
     "end_time": "2025-02-24T16:31:24.442621Z",
     "start_time": "2025-02-24T16:30:40.428491Z"
    }
   },
   "id": "b78dbcbbad5dc038",
   "execution_count": 48
  },
  {
   "cell_type": "code",
   "outputs": [
    {
     "name": "stdout",
     "output_type": "stream",
     "text": [
      "Training Random Forest Model...\n",
      "Random Forest training completed.\n",
      "Classification Report:\n",
      "              precision    recall  f1-score   support\n",
      "\n",
      "           0       0.98      0.99      0.98       980\n",
      "           1       0.99      0.99      0.99      1135\n",
      "           2       0.95      0.97      0.96      1032\n",
      "           3       0.96      0.97      0.96      1010\n",
      "           4       0.98      0.97      0.97       982\n",
      "           5       0.97      0.97      0.97       892\n",
      "           6       0.97      0.98      0.98       958\n",
      "           7       0.97      0.96      0.96      1028\n",
      "           8       0.96      0.96      0.96       974\n",
      "           9       0.96      0.95      0.95      1009\n",
      "\n",
      "    accuracy                           0.97     10000\n",
      "   macro avg       0.97      0.97      0.97     10000\n",
      "weighted avg       0.97      0.97      0.97     10000\n",
      "\n",
      "Confusion Matrix:\n",
      "[[ 970    0    0    0    0    1    4    1    3    1]\n",
      " [   0 1122    3    3    0    1    4    1    1    0]\n",
      " [   5    0 1006    4    2    0    3    8    4    0]\n",
      " [   0    0   10  975    0    7    0    8    7    3]\n",
      " [   0    0    3    0  956    0    4    0    3   16]\n",
      " [   2    0    1   11    3  862    5    2    4    2]\n",
      " [   6    3    0    0    2    5  937    0    5    0]\n",
      " [   1    3   24    1    4    0    0  983    3    9]\n",
      " [   4    0    4    7    3    5    5    4  931   11]\n",
      " [   5    4    3   10   10    8    1    6    4  958]]\n",
      "Accuracy: 0.9700\n"
     ]
    }
   ],
   "source": [
    "# Random Forest model creation and training\n",
    "print(\"Training Random Forest Model...\")\n",
    "classifier_rf = MnistClassifier(algorithm='rf')\n",
    "classifier_rf.train(x_train, y_train)\n",
    "rf_preds = evaluate_model(classifier_rf, x_test, y_test)\n"
   ],
   "metadata": {
    "collapsed": false,
    "ExecuteTime": {
     "end_time": "2025-02-24T16:31:43.561941Z",
     "start_time": "2025-02-24T16:31:24.443280Z"
    }
   },
   "id": "e94d98af8fcc90f3",
   "execution_count": 49
  },
  {
   "cell_type": "code",
   "outputs": [
    {
     "name": "stdout",
     "output_type": "stream",
     "text": [
      "Training Feed-Forward NN Model...\n",
      "Epoch 1/10\n",
      "\u001B[1m469/469\u001B[0m \u001B[32m━━━━━━━━━━━━━━━━━━━━\u001B[0m\u001B[37m\u001B[0m \u001B[1m1s\u001B[0m 878us/step - accuracy: 0.7893 - loss: 0.7815\n",
      "Epoch 2/10\n",
      "\u001B[1m469/469\u001B[0m \u001B[32m━━━━━━━━━━━━━━━━━━━━\u001B[0m\u001B[37m\u001B[0m \u001B[1m0s\u001B[0m 883us/step - accuracy: 0.9514 - loss: 0.1678\n",
      "Epoch 3/10\n",
      "\u001B[1m469/469\u001B[0m \u001B[32m━━━━━━━━━━━━━━━━━━━━\u001B[0m\u001B[37m\u001B[0m \u001B[1m0s\u001B[0m 887us/step - accuracy: 0.9683 - loss: 0.1084\n",
      "Epoch 4/10\n",
      "\u001B[1m469/469\u001B[0m \u001B[32m━━━━━━━━━━━━━━━━━━━━\u001B[0m\u001B[37m\u001B[0m \u001B[1m0s\u001B[0m 886us/step - accuracy: 0.9755 - loss: 0.0819\n",
      "Epoch 5/10\n",
      "\u001B[1m469/469\u001B[0m \u001B[32m━━━━━━━━━━━━━━━━━━━━\u001B[0m\u001B[37m\u001B[0m \u001B[1m0s\u001B[0m 886us/step - accuracy: 0.9796 - loss: 0.0670\n",
      "Epoch 6/10\n",
      "\u001B[1m469/469\u001B[0m \u001B[32m━━━━━━━━━━━━━━━━━━━━\u001B[0m\u001B[37m\u001B[0m \u001B[1m0s\u001B[0m 886us/step - accuracy: 0.9844 - loss: 0.0514\n",
      "Epoch 7/10\n",
      "\u001B[1m469/469\u001B[0m \u001B[32m━━━━━━━━━━━━━━━━━━━━\u001B[0m\u001B[37m\u001B[0m \u001B[1m0s\u001B[0m 885us/step - accuracy: 0.9871 - loss: 0.0421\n",
      "Epoch 8/10\n",
      "\u001B[1m469/469\u001B[0m \u001B[32m━━━━━━━━━━━━━━━━━━━━\u001B[0m\u001B[37m\u001B[0m \u001B[1m0s\u001B[0m 885us/step - accuracy: 0.9904 - loss: 0.0338\n",
      "Epoch 9/10\n",
      "\u001B[1m469/469\u001B[0m \u001B[32m━━━━━━━━━━━━━━━━━━━━\u001B[0m\u001B[37m\u001B[0m \u001B[1m0s\u001B[0m 884us/step - accuracy: 0.9911 - loss: 0.0308\n",
      "Epoch 10/10\n",
      "\u001B[1m469/469\u001B[0m \u001B[32m━━━━━━━━━━━━━━━━━━━━\u001B[0m\u001B[37m\u001B[0m \u001B[1m0s\u001B[0m 879us/step - accuracy: 0.9918 - loss: 0.0274\n",
      "dict_keys(['accuracy', 'loss'])\n"
     ]
    }
   ],
   "source": [
    "# Feed-Forward NN model creation and training\n",
    "print(\"Training Feed-Forward NN Model...\")\n",
    "classifier_nn = MnistClassifier(algorithm='nn')\n",
    "classifier_nn.train(x_train, y_train)\n"
   ],
   "metadata": {
    "collapsed": false,
    "ExecuteTime": {
     "end_time": "2025-02-24T16:31:48.084925Z",
     "start_time": "2025-02-24T16:31:43.563126Z"
    }
   },
   "id": "e450a975240bd40f",
   "execution_count": 50
  },
  {
   "cell_type": "code",
   "outputs": [
    {
     "name": "stdout",
     "output_type": "stream",
     "text": [
      "\n",
      "Model Comparison:\n",
      "CNN Accuracy: 0.9888\n",
      "Random Forest Accuracy: 0.9700\n",
      "Feed-Forward NN Accuracy: 0.9750\n"
     ]
    }
   ],
   "source": [
    "# Compare Model Accuracies\n",
    "cnn_accuracy = accuracy_score(y_test, cnn_preds)\n",
    "rf_accuracy = accuracy_score(y_test, rf_preds)\n",
    "nn_accuracy = accuracy_score(y_test, nn_preds)\n",
    "\n",
    "print(\"\\nModel Comparison:\")\n",
    "print(f\"CNN Accuracy: {cnn_accuracy:.4f}\")\n",
    "print(f\"Random Forest Accuracy: {rf_accuracy:.4f}\")\n",
    "print(f\"Feed-Forward NN Accuracy: {nn_accuracy:.4f}\")"
   ],
   "metadata": {
    "collapsed": false,
    "ExecuteTime": {
     "end_time": "2025-02-24T16:31:48.089443Z",
     "start_time": "2025-02-24T16:31:48.085535Z"
    }
   },
   "id": "393abe01258fff60",
   "execution_count": 51
  },
  {
   "cell_type": "markdown",
   "source": [
    "EDGE CASES"
   ],
   "metadata": {
    "collapsed": false
   },
   "id": "7e7c1289d2aac9f8"
  },
  {
   "cell_type": "code",
   "outputs": [],
   "source": [
    "from scipy.ndimage import rotate \n",
    "import matplotlib.pyplot as plt "
   ],
   "metadata": {
    "collapsed": false,
    "ExecuteTime": {
     "end_time": "2025-02-24T16:31:48.091464Z",
     "start_time": "2025-02-24T16:31:48.089999Z"
    }
   },
   "id": "57a8b16284ae4a1d",
   "execution_count": 52
  },
  {
   "cell_type": "code",
   "outputs": [],
   "source": [
    "def visualize_image(image, title):\n",
    "    plt.imshow(image.squeeze(), cmap='gray')\n",
    "    plt.title(title)\n",
    "    plt.axis('off')\n",
    "    plt.show()"
   ],
   "metadata": {
    "collapsed": false,
    "ExecuteTime": {
     "end_time": "2025-02-24T16:31:48.093726Z",
     "start_time": "2025-02-24T16:31:48.092093Z"
    }
   },
   "id": "ab0856f608b4bd64",
   "execution_count": 53
  },
  {
   "cell_type": "code",
   "outputs": [
    {
     "name": "stdout",
     "output_type": "stream",
     "text": [
      "\u001B[1m1/1\u001B[0m \u001B[32m━━━━━━━━━━━━━━━━━━━━\u001B[0m\u001B[37m\u001B[0m \u001B[1m0s\u001B[0m 10ms/step\n",
      "\u001B[1m1/1\u001B[0m \u001B[32m━━━━━━━━━━━━━━━━━━━━\u001B[0m\u001B[37m\u001B[0m \u001B[1m0s\u001B[0m 19ms/step\n",
      "\n",
      "Edge Case 1: Corrupted Image (All zeros)\n",
      "CNN Prediction: 1\n",
      "Random Forest Prediction: 7\n",
      "Feed-Forward NN Prediction: 5\n"
     ]
    },
    {
     "data": {
      "text/plain": "<Figure size 640x480 with 1 Axes>",
      "image/png": "[encoded data removed]"
     },
     "metadata": {},
     "output_type": "display_data"
    }
   ],
   "source": [
    "# Edge Case 1: Corrupted Image (All zeros)\n",
    "corrupted_image = np.zeros((28, 28, 1)) \n",
    "corrupted_pred_cnn = classifier_cnn.predict(corrupted_image[np.newaxis, ...])[0]\n",
    "corrupted_pred_rf = classifier_rf.predict(corrupted_image[np.newaxis, ...])[0]\n",
    "corrupted_pred_nn = classifier_nn.predict(corrupted_image[np.newaxis, ...])[0]\n",
    "\n",
    "print(\"\\nEdge Case 1: Corrupted Image (All zeros)\")\n",
    "print(f\"CNN Prediction: {corrupted_pred_cnn}\")\n",
    "print(f\"Random Forest Prediction: {corrupted_pred_rf}\")\n",
    "print(f\"Feed-Forward NN Prediction: {corrupted_pred_nn}\")\n",
    "visualize_image(corrupted_image, \"Corrupted Image (All zeros)\")"
   ],
   "metadata": {
    "collapsed": false,
    "ExecuteTime": {
     "end_time": "2025-02-24T16:31:48.177199Z",
     "start_time": "2025-02-24T16:31:48.094340Z"
    }
   },
   "id": "303be91c2c4cb377",
   "execution_count": 54
  },
  {
   "cell_type": "code",
   "outputs": [
    {
     "name": "stdout",
     "output_type": "stream",
     "text": [
      "\u001B[1m1/1\u001B[0m \u001B[32m━━━━━━━━━━━━━━━━━━━━\u001B[0m\u001B[37m\u001B[0m \u001B[1m0s\u001B[0m 10ms/step\n",
      "\u001B[1m1/1\u001B[0m \u001B[32m━━━━━━━━━━━━━━━━━━━━\u001B[0m\u001B[37m\u001B[0m \u001B[1m0s\u001B[0m 10ms/step\n",
      "\n",
      "Edge Case 2: Rotated Digit\n",
      "CNN Prediction: 4\n",
      "Random Forest Prediction: 9\n",
      "Feed-Forward NN Prediction: 9\n"
     ]
    },
    {
     "data": {
      "text/plain": "<Figure size 640x480 with 1 Axes>",
      "image/png": "[encoded data removed]"
     },
     "metadata": {},
     "output_type": "display_data"
    }
   ],
   "source": [
    "# Edge Case 2: Rotated Digit\n",
    "rotated_image = rotate(x_test[0], angle=45, reshape=False) \n",
    "rotated_pred_cnn = classifier_cnn.predict(rotated_image[np.newaxis, ...])[0]\n",
    "rotated_pred_rf = classifier_rf.predict(rotated_image[np.newaxis, ...])[0]\n",
    "rotated_pred_nn = classifier_nn.predict(rotated_image[np.newaxis, ...])[0]\n",
    "\n",
    "print(\"\\nEdge Case 2: Rotated Digit\")\n",
    "print(f\"CNN Prediction: {rotated_pred_cnn}\")\n",
    "print(f\"Random Forest Prediction: {rotated_pred_rf}\")\n",
    "print(f\"Feed-Forward NN Prediction: {rotated_pred_nn}\")\n",
    "visualize_image(rotated_image, \"Rotated Digit\")"
   ],
   "metadata": {
    "collapsed": false,
    "ExecuteTime": {
     "end_time": "2025-02-24T16:31:48.252204Z",
     "start_time": "2025-02-24T16:31:48.177867Z"
    }
   },
   "id": "37bd23f3cf88d9f6",
   "execution_count": 55
  },
  {
   "cell_type": "code",
   "outputs": [
    {
     "name": "stdout",
     "output_type": "stream",
     "text": [
      "\u001B[1m1/1\u001B[0m \u001B[32m━━━━━━━━━━━━━━━━━━━━\u001B[0m\u001B[37m\u001B[0m \u001B[1m0s\u001B[0m 10ms/step\n",
      "\u001B[1m1/1\u001B[0m \u001B[32m━━━━━━━━━━━━━━━━━━━━\u001B[0m\u001B[37m\u001B[0m \u001B[1m0s\u001B[0m 10ms/step\n",
      "\n",
      "Edge Case 3: Non-digit Image (Random noise)\n",
      "CNN Prediction: 8\n",
      "Random Forest Prediction: 8\n",
      "Feed-Forward NN Prediction: 3\n"
     ]
    },
    {
     "data": {
      "text/plain": "<Figure size 640x480 with 1 Axes>",
      "image/png": "[encoded data removed]"
     },
     "metadata": {},
     "output_type": "display_data"
    }
   ],
   "source": [
    "# Edge Case 3: Non-digit Image (Random noise)\n",
    "random_noise_image = np.random.rand(28, 28, 1)  # Create an image with random noise\n",
    "random_noise_pred_cnn = classifier_cnn.predict(random_noise_image[np.newaxis, ...])[0]\n",
    "random_noise_pred_rf = classifier_rf.predict(random_noise_image[np.newaxis, ...])[0]\n",
    "random_noise_pred_nn = classifier_nn.predict(random_noise_image[np.newaxis, ...])[0]\n",
    "\n",
    "print(\"\\nEdge Case 3: Non-digit Image (Random noise)\")\n",
    "print(f\"CNN Prediction: {random_noise_pred_cnn}\")\n",
    "print(f\"Random Forest Prediction: {random_noise_pred_rf}\")\n",
    "print(f\"Feed-Forward NN Prediction: {random_noise_pred_nn}\")\n",
    "visualize_image(random_noise_image, \"Non-digit Image (Random noise)\")"
   ],
   "metadata": {
    "collapsed": false,
    "ExecuteTime": {
     "end_time": "2025-02-24T16:31:48.331192Z",
     "start_time": "2025-02-24T16:31:48.254081Z"
    }
   },
   "id": "77f826314aec62e8",
   "execution_count": 56
  },
  {
   "cell_type": "code",
   "outputs": [
    {
     "name": "stdout",
     "output_type": "stream",
     "text": [
      "\u001B[1m1/1\u001B[0m \u001B[32m━━━━━━━━━━━━━━━━━━━━\u001B[0m\u001B[37m\u001B[0m \u001B[1m0s\u001B[0m 11ms/step\n",
      "\u001B[1m1/1\u001B[0m \u001B[32m━━━━━━━━━━━━━━━━━━━━\u001B[0m\u001B[37m\u001B[0m \u001B[1m0s\u001B[0m 11ms/step\n",
      "\n",
      "Edge Case 4: Extreme Pixel Values (All 255)\n",
      "CNN Prediction: 0\n",
      "Random Forest Prediction: 0\n",
      "Feed-Forward NN Prediction: 3\n"
     ]
    },
    {
     "data": {
      "text/plain": "<Figure size 640x480 with 1 Axes>",
      "image/png": "[encoded data removed]"
     },
     "metadata": {},
     "output_type": "display_data"
    }
   ],
   "source": [
    "# Edge Case 4: Extreme Pixel Values (All 255)\n",
    "extreme_image = np.full((28, 28, 1), 255.0) \n",
    "extreme_pred_cnn = classifier_cnn.predict(extreme_image[np.newaxis, ...])[0]\n",
    "extreme_pred_rf = classifier_rf.predict(extreme_image[np.newaxis, ...])[0]\n",
    "extreme_pred_nn = classifier_nn.predict(extreme_image[np.newaxis, ...])[0]\n",
    "\n",
    "print(\"\\nEdge Case 4: Extreme Pixel Values (All 255)\")\n",
    "print(f\"CNN Prediction: {extreme_pred_cnn}\")\n",
    "print(f\"Random Forest Prediction: {extreme_pred_rf}\")\n",
    "print(f\"Feed-Forward NN Prediction: {extreme_pred_nn}\")\n",
    "visualize_image(extreme_image, \"Extreme Pixel Values (All 255)\")"
   ],
   "metadata": {
    "collapsed": false,
    "ExecuteTime": {
     "end_time": "2025-02-24T16:31:48.404918Z",
     "start_time": "2025-02-24T16:31:48.331801Z"
    }
   },
   "id": "97c44beb933a9292",
   "execution_count": 57
  },
  {
   "cell_type": "code",
   "outputs": [],
   "source": [],
   "metadata": {
    "collapsed": false,
    "ExecuteTime": {
     "end_time": "2025-02-24T16:31:48.406851Z",
     "start_time": "2025-02-24T16:31:48.405551Z"
    }
   },
   "id": "b2b750dae46946a4",
   "execution_count": 57
  }
 ],
 "metadata": {
  "kernelspec": {
   "display_name": "Python 3",
   "language": "python",
   "name": "python3"
  },
  "language_info": {
   "codemirror_mode": {
    "name": "ipython",
    "version": 2
   },
   "file_extension": ".py",
   "mimetype": "text/x-python",
   "name": "python",
   "nbconvert_exporter": "python",
   "pygments_lexer": "ipython2",
   "version": "2.7.6"
  }
 },
 "nbformat": 4,
 "nbformat_minor": 5
}
